{
 "cells": [
  {
   "cell_type": "code",
   "execution_count": 42,
   "id": "1186bd22-0a8b-4fb5-9c08-4c95f6275410",
   "metadata": {},
   "outputs": [],
   "source": [
    "#Implementation of neural network from scratch using NumPy\n",
    "#Data set\n",
    "# A\n",
    "a=[0,0,1,1,0,0,\n",
    "  0,1,0,0,1,0,\n",
    "  1,1,1,1,1,1,\n",
    "  1,0,0,0,0,1,\n",
    "  1,0,0,0,0,1]\n",
    "\n",
    "#B\n",
    "b=[0,1,1,1,1,0,\n",
    "  0,1,0,0,1,0,\n",
    "  0,1,1,1,1,0,\n",
    "  0,1,0,0,1,0,\n",
    "  0,1,1,1,1,0]\n",
    "\n",
    "#C\n",
    "c=[0,1,1,1,1,0,\n",
    "  0,1,0,0,0,0,\n",
    "  0,1,0,0,0,0,\n",
    "  0,1,0,0,0,0,\n",
    "  0,1,1,1,1,0]"
   ]
  },
  {
   "cell_type": "code",
   "execution_count": 67,
   "id": "bd6d5e72-0670-4233-99a0-3c5a0add7642",
   "metadata": {},
   "outputs": [],
   "source": [
    "Y=[[1,0,0],[0,1,0],[0,0,1]]"
   ]
  },
  {
   "cell_type": "code",
   "execution_count": 44,
   "id": "dfe1ccd0-1acd-417d-8fb3-c7c982483ed3",
   "metadata": {},
   "outputs": [
    {
     "data": {
      "image/png": "[encoded data removed]",
      "text/plain": [
       "<Figure size 640x480 with 1 Axes>"
      ]
     },
     "metadata": {},
     "output_type": "display_data"
    }
   ],
   "source": [
    "import numpy as np\n",
    "import matplotlib.pyplot as plt\n",
    "#Visualizing a\n",
    "plt.imshow(np.array(a).reshape(5,6))\n",
    "plt.show()"
   ]
  },
  {
   "cell_type": "code",
   "execution_count": 80,
   "id": "e8272249-ca3a-4b4b-bdc6-9d98c3f0f2ef",
   "metadata": {},
   "outputs": [],
   "source": [
    "#converting data and labels into numpy array\n",
    "x=[np.array(a).reshape(1,30),np.array(b).reshape(1,30),np.array(c).reshape(1,30)]\n",
    "y = np.array(Y)"
   ]
  },
  {
   "cell_type": "code",
   "execution_count": 81,
   "id": "34d62c05-e458-439d-9749-757152ea949f",
   "metadata": {},
   "outputs": [],
   "source": [
    "#Creating layers\n",
    "#input(1,30)\n",
    "#hidden(1,5)\n",
    "#output(3,3)"
   ]
  },
  {
   "cell_type": "code",
   "execution_count": 128,
   "id": "218ccdf1-458a-4103-aac2-29da27797b96",
   "metadata": {},
   "outputs": [],
   "source": [
    "#Activation function\n",
    "def sigmoid(x):\n",
    "    return (1/(1+np.exp(-x)))\n",
    "    \n",
    "    "
   ]
  },
  {
   "cell_type": "code",
   "execution_count": 129,
   "id": "fd354a3e-d7cb-4f63-8a14-a08ce64360bf",
   "metadata": {},
   "outputs": [],
   "source": [
    "#Forward tracking.\n",
    "def f_forward(x,w1,w2):\n",
    "    #Hidden Layer\n",
    "    hi = x.dot(w1)\n",
    "    ho = sigmoid(hi)\n",
    "\n",
    "    #output layer\n",
    "    oi = ho.dot(w2)\n",
    "    oo = sigmoid(oi)\n",
    "\n",
    "    return oo\n",
    "    "
   ]
  },
  {
   "cell_type": "code",
   "execution_count": 130,
   "id": "e45041c9-fecc-4e93-866e-5e644d499612",
   "metadata": {},
   "outputs": [],
   "source": [
    "#generating weights:\n",
    "def weights(x,y):\n",
    "    l=[]\n",
    "    for i in range(x*y):\n",
    "        l.append(np.random.randn())\n",
    "    return(np.array(l).reshape(x,y))\n",
    "    "
   ]
  },
  {
   "cell_type": "code",
   "execution_count": 131,
   "id": "04ab20a7-2ed5-4c18-8e15-d15e4ca9ec54",
   "metadata": {},
   "outputs": [],
   "source": [
    "#Loss Calculation\n",
    "def Loss(out,Y):\n",
    "    s = (np.square(out-Y))\n",
    "    s=np.sum(s)/len(Y)\n",
    "    return s\n",
    "\n",
    "    "
   ]
  },
  {
   "cell_type": "code",
   "execution_count": 132,
   "id": "d567dd6c-f697-48df-b7bb-715e0c932ea6",
   "metadata": {},
   "outputs": [],
   "source": [
    "#backtracking\n",
    "def back(x,y,w1,w2,alpha):\n",
    "\n",
    "    #hiddenlayer\n",
    "    hi = x.dot(w1)\n",
    "    ho = sigmoid(hi)\n",
    "\n",
    "\n",
    "    #Output Layer\n",
    "    oi = ho.dot(w2)\n",
    "    oo=sigmoid(oi)\n",
    "\n",
    "    #gradiant loss in due to output layer\n",
    "    d2 = (oo-y)\n",
    "\n",
    "    #gradient loss due to hidden layer\n",
    "\n",
    "    d1 = np.multiply((w2.dot(d2.transpose())).transpose(),(np.multiply(ho,1-ho)))\n",
    "\n",
    "    #gradiant adjustment\n",
    "    w1_adj = x.transpose().dot(d1)\n",
    "    w2_adj =  ho.transpose().dot(d2)\n",
    "\n",
    "    w1 = w1-(alpha*w1_adj)\n",
    "    w2 = w2-(alpha*w2_adj)\n",
    "\n",
    "    return(w1,w2)\n",
    "    \n",
    "    \n",
    "\n",
    "    "
   ]
  },
  {
   "cell_type": "code",
   "execution_count": 155,
   "id": "45554bc7-9b49-4ca8-8568-e292f3067800",
   "metadata": {},
   "outputs": [],
   "source": [
    "def train(x,y,w1,w2,alpha=0.01,epoch=10):\n",
    "    acc=[]\n",
    "    loss=[]\n",
    "    for j in range (epoch):\n",
    "         l = []\n",
    "         for i in range(len(x)):\n",
    "            out = f_forward(x[i],w1,w2)\n",
    "            l.append((Loss(out,y[i])))\n",
    "            w1,w2 = back(x[i],y[i],w1,w2,alpha)\n",
    "         print(\"epochs: \",j+1,\"acc: \",(1-(sum(l)/len(x)))*100)\n",
    "         acc.append((1-(sum(l)/len(x)))*100)\n",
    "         loss.append(sum(l)/len(x))\n",
    "    return(acc,loss,w1,w2)\n",
    "\n"
   ]
  },
  {
   "cell_type": "code",
   "execution_count": 164,
   "id": "e5b54c7b-21d4-4dc8-86f2-08ed491c5b57",
   "metadata": {},
   "outputs": [],
   "source": [
    "def predict(x,w1,w2):\n",
    "    out = f_forward(x,w1,w2)\n",
    "    maxm=0\n",
    "    k=0\n",
    "    for i in range(len(out[0])):\n",
    "        if(maxm<out[0][i]):\n",
    "            maxm=out[0][i]\n",
    "            k=i\n",
    "    if(k==0):\n",
    "        print(\"Image is of letter A\")\n",
    "    elif(k==1):\n",
    "        print(\"Image is of letter B\")\n",
    "    else:\n",
    "        print(\"Image is of Letter C\")\n",
    "    plt.imshow(x.reshape(5,6))\n",
    "    plt.show()\n",
    "    "
   ]
  },
  {
   "cell_type": "code",
   "execution_count": 165,
   "id": "3fadee37-03fd-44c5-b822-10445aae6846",
   "metadata": {},
   "outputs": [
    {
     "name": "stdout",
     "output_type": "stream",
     "text": [
      "epochs:  1 acc:  71.57848160252986\n",
      "epochs:  2 acc:  75.00218684459767\n",
      "epochs:  3 acc:  77.39118864463839\n",
      "epochs:  4 acc:  79.03817762193668\n",
      "epochs:  5 acc:  80.21422670562019\n",
      "epochs:  6 acc:  81.10151633247486\n",
      "epochs:  7 acc:  81.81054490041234\n",
      "epochs:  8 acc:  82.40534558296456\n",
      "epochs:  9 acc:  82.92242353440403\n",
      "epochs:  10 acc:  83.38297854431202\n",
      "epochs:  11 acc:  83.80013758136266\n",
      "epochs:  12 acc:  84.18286527454929\n",
      "epochs:  13 acc:  84.53787493412136\n",
      "epochs:  14 acc:  84.8704816732954\n",
      "epochs:  15 acc:  85.18497811144636\n",
      "epochs:  16 acc:  85.48483275687595\n",
      "epochs:  17 acc:  85.77283614088583\n",
      "epochs:  18 acc:  86.05123223973872\n",
      "epochs:  19 acc:  86.32183905668357\n",
      "epochs:  20 acc:  86.5861543057089\n",
      "epochs:  21 acc:  86.84544331369078\n",
      "epochs:  22 acc:  87.10080900085305\n",
      "epochs:  23 acc:  87.35324562115889\n",
      "epochs:  24 acc:  87.60367850026498\n",
      "epochs:  25 acc:  87.85299159843389\n",
      "epochs:  26 acc:  88.10204369899196\n",
      "epochs:  27 acc:  88.35167263963717\n",
      "epochs:  28 acc:  88.60268549283005\n",
      "epochs:  29 acc:  88.85583130956614\n",
      "epochs:  30 acc:  89.11175262768577\n",
      "epochs:  31 acc:  89.37091354004582\n",
      "epochs:  32 acc:  89.63350720891549\n",
      "epochs:  33 acc:  89.89935536442425\n",
      "epochs:  34 acc:  90.16782535807769\n",
      "epochs:  35 acc:  90.43780108665376\n",
      "epochs:  36 acc:  90.70774237249957\n",
      "epochs:  37 acc:  90.97584445153981\n",
      "epochs:  38 acc:  91.24026892888324\n",
      "epochs:  39 acc:  91.49938155467584\n",
      "epochs:  40 acc:  91.75192647142282\n",
      "epochs:  41 acc:  91.99709716505316\n",
      "epochs:  42 acc:  92.23450959789663\n",
      "epochs:  43 acc:  92.46411417755625\n",
      "epochs:  44 acc:  92.686088594755\n",
      "epochs:  45 acc:  92.90074108571363\n",
      "epochs:  46 acc:  93.1084372103277\n",
      "epochs:  47 acc:  93.3095513308463\n",
      "epochs:  48 acc:  93.50443826999995\n",
      "epochs:  49 acc:  93.69341928038124\n",
      "epochs:  50 acc:  93.8767772002576\n",
      "epochs:  51 acc:  94.05475701225564\n",
      "epochs:  52 acc:  94.2275692681254\n",
      "epochs:  53 acc:  94.39539478645871\n",
      "epochs:  54 acc:  94.55838967583774\n",
      "epochs:  55 acc:  94.71669015279207\n",
      "epochs:  56 acc:  94.87041688339863\n",
      "epochs:  57 acc:  95.01967873423933\n",
      "epochs:  58 acc:  95.1645759103674\n",
      "epochs:  59 acc:  95.30520250936753\n",
      "epochs:  60 acc:  95.44164854703098\n",
      "epochs:  61 acc:  95.57400152136783\n",
      "epochs:  62 acc:  95.70234758379755\n",
      "epochs:  63 acc:  95.82677238328463\n",
      "epochs:  64 acc:  95.94736164337303\n",
      "epochs:  65 acc:  96.06420152505031\n",
      "epochs:  66 acc:  96.17737882108052\n",
      "epochs:  67 acc:  96.28698102042807\n",
      "epochs:  68 acc:  96.39309627495228\n",
      "epochs:  69 acc:  96.49581329481879\n",
      "epochs:  70 acc:  96.59522119408595\n",
      "epochs:  71 acc:  96.6914093036593\n",
      "epochs:  72 acc:  96.78446696520881\n",
      "epochs:  73 acc:  96.8744833166435\n",
      "epochs:  74 acc:  96.96154707725816\n",
      "epochs:  75 acc:  97.04574633863731\n",
      "epochs:  76 acc:  97.1271683657534\n",
      "epochs:  77 acc:  97.20589941136795\n",
      "epochs:  78 acc:  97.28202454578542\n",
      "epochs:  79 acc:  97.35562750317177\n",
      "epochs:  80 acc:  97.4267905449958\n",
      "epochs:  81 acc:  97.49559434064727\n",
      "epochs:  82 acc:  97.56211786490525\n",
      "epochs:  83 acc:  97.62643831164799\n",
      "epochs:  84 acc:  97.68863102299548\n",
      "epochs:  85 acc:  97.74876943293802\n",
      "epochs:  86 acc:  97.80692502442012\n",
      "epochs:  87 acc:  97.86316729880278\n",
      "epochs:  88 acc:  97.91756375661458\n",
      "epochs:  89 acc:  97.97017988851178\n",
      "epochs:  90 acc:  98.02107917539638\n",
      "epochs:  91 acc:  98.07032309668347\n",
      "epochs:  92 acc:  98.11797114575891\n",
      "epochs:  93 acc:  98.16408085172755\n",
      "epochs:  94 acc:  98.20870780661109\n",
      "epochs:  95 acc:  98.25190569721892\n",
      "epochs:  96 acc:  98.29372634097733\n",
      "epochs:  97 acc:  98.33421972506389\n",
      "epochs:  98 acc:  98.37343404825467\n",
      "epochs:  99 acc:  98.41141576494825\n",
      "epochs:  100 acc:  98.44820963088583\n"
     ]
    }
   ],
   "source": [
    "w1 = weights(30,5)\n",
    "w2 = weights(5,3)\n",
    "\n",
    "acc ,loss, w1,w2=train(x,y,w1,w2,0.1,100)\n"
   ]
  },
  {
   "cell_type": "code",
   "execution_count": 166,
   "id": "cecb91ca-c130-4eee-9567-85fc51e8e2da",
   "metadata": {},
   "outputs": [
    {
     "data": {
      "image/png": "[encoded data removed]",
      "text/plain": [
       "<Figure size 640x480 with 1 Axes>"
      ]
     },
     "metadata": {},
     "output_type": "display_data"
    }
   ],
   "source": [
    "import matplotlib.pyplot as plt1\n",
    "plt1.plot(acc)\n",
    "plt.ylabel('Accuracy')\n",
    "plt.xlabel('Epochs:')\n",
    "plt1.show()\n"
   ]
  },
  {
   "cell_type": "code",
   "execution_count": 173,
   "id": "05fca027-6bed-4ea4-86c8-5c53c62b3c1e",
   "metadata": {},
   "outputs": [
    {
     "name": "stdout",
     "output_type": "stream",
     "text": [
      "Image is of letter B\n"
     ]
    },
    {
     "data": {
      "image/png": "[encoded data removed]",
      "text/plain": [
       "<Figure size 640x480 with 1 Axes>"
      ]
     },
     "metadata": {},
     "output_type": "display_data"
    }
   ],
   "source": [
    "#make predictions\n",
    "predict(x[1],w1,w2)"
   ]
  },
  {
   "cell_type": "code",
   "execution_count": null,
   "id": "4b63db9f-69fc-4157-b909-7e56a9476028",
   "metadata": {},
   "outputs": [],
   "source": []
  }
 ],
 "metadata": {
  "kernelspec": {
   "display_name": "Python 3 (ipykernel)",
   "language": "python",
   "name": "python3"
  },
  "language_info": {
   "codemirror_mode": {
    "name": "ipython",
    "version": 3
   },
   "file_extension": ".py",
   "mimetype": "text/x-python",
   "name": "python",
   "nbconvert_exporter": "python",
   "pygments_lexer": "ipython3",
   "version": "3.9.0"
  }
 },
 "nbformat": 4,
 "nbformat_minor": 5
}
